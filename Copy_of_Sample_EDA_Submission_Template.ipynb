{
  "nbformat": 4,
  "nbformat_minor": 0,
  "metadata": {
    "colab": {
      "private_outputs": true,
      "provenance": [],
      "collapsed_sections": [
        "Y3lxredqlCYt",
        "x71ZqKXriCWQ"
      ],
      "include_colab_link": true
    },
    "kernelspec": {
      "name": "python3",
      "display_name": "Python 3"
    },
    "language_info": {
      "name": "python"
    }
  },
  "cells": [
    {
      "cell_type": "markdown",
      "metadata": {
        "id": "view-in-github",
        "colab_type": "text"
      },
      "source": [
        "<a href=\"https://colab.research.google.com/github/kirtigautam12/hotel_booking_analysis/blob/main/Copy_of_Sample_EDA_Submission_Template.ipynb\" target=\"_parent\"><img src=\"https://colab.research.google.com/assets/colab-badge.svg\" alt=\"Open In Colab\"/></a>"
      ]
    },
    {
      "cell_type": "markdown",
      "source": [
        "# **Project Name**    - **HOTEL BOOKING ANALYSIS**\n",
        "\n"
      ],
      "metadata": {
        "id": "vncDsAP0Gaoa"
      }
    },
    {
      "cell_type": "markdown",
      "source": [
        "# **Project Summary -**"
      ],
      "metadata": {
        "id": "FJNUwmbgGyua"
      }
    },
    {
      "cell_type": "markdown",
      "source": [
        "This project aims to conduct an exploratory data analysis (EDA) on a dataset of hotel bookings to gain insights on booking patterns and customer behaviour. The analysis will focus on dentifying patterns in bookings and cancellations, customer demographics and preferences, and the effectiveness of different distribution channels.\n",
        "The dataset used for this project is available here.\n",
        "[Built using jupyter notebook and Python 3]"
      ],
      "metadata": {
        "id": "F6v_1wHtG2nS"
      }
    },
    {
      "cell_type": "markdown",
      "source": [
        "##### **Project Type**    - EDA\n",
        "##### **Contribution**    - Individual\n",
        "##### **Submitted by -** Kirti gautam"
      ],
      "metadata": {
        "id": "beRrZCGUAJYm"
      }
    },
    {
      "cell_type": "markdown",
      "source": [
        "# **GitHub Link -**"
      ],
      "metadata": {
        "id": "w6K7xa23Elo4"
      }
    },
    {
      "cell_type": "markdown",
      "source": [
        "Provide your GitHub Link here."
      ],
      "metadata": {
        "id": "h1o69JH3Eqqn"
      }
    },
    {
      "cell_type": "markdown",
      "source": [
        "# **Problem Statement**\n"
      ],
      "metadata": {
        "id": "yQaldy8SH6Dl"
      }
    },
    {
      "cell_type": "markdown",
      "source": [
        "Have you ever wondered when the best time of year to book a hotel room is? Or the optimal length of stay in order to get the best daily rate? What if you wanted to predict whether or not a hotel was likely to receive a disproportionately high number of special requests? This hotel booking dataset can help you explore those questions! This data set contains booking information for a city hotel and a resort hotel, and includes information such as when the booking was made, length of stay, the number of adults, children, and/or babies, and the number of available parking spaces, among other things. All personally identifying information has been removed from the data. Explore and analyse the data to discover important factors that govern the bookings."
      ],
      "metadata": {
        "id": "uOpFhbh-nbbn"
      }
    },
    {
      "cell_type": "markdown",
      "source": [
        "#### **Define Your Business Objective?**"
      ],
      "metadata": {
        "id": "PH-0ReGfmX4f"
      }
    },
    {
      "cell_type": "markdown",
      "source": [
        "The business objectives that this project tries to achieve are\n",
        "\n",
        ".To gain a comprehensive understanding of booking patterns and customer behavior\n",
        ".Understand which amenities and services are most popular among guests\n",
        ".Determine key drivers of occupancy, revenue, and customer satisfaction\n",
        ".Form strategies for increasing occupancy, revenue and customer satisfaction."
      ],
      "metadata": {
        "id": "3A4JyvSSoYOk"
      }
    },
    {
      "cell_type": "markdown",
      "source": [
        "# **General Guidelines** : -  "
      ],
      "metadata": {
        "id": "mDgbUHAGgjLW"
      }
    },
    {
      "cell_type": "markdown",
      "source": [
        "1.   Well-structured, formatted, and commented code is required. \n",
        "2.   Exception Handling, Production Grade Code & Deployment Ready Code will be a plus. Those students will be awarded some additional credits. \n",
        "     \n",
        "     The additional credits will have advantages over other students during Star Student selection.\n",
        "       \n",
        "             [ Note: - Deployment Ready Code is defined as, the whole .ipynb notebook should be executable in one go\n",
        "                       without a single error logged. ]\n",
        "\n",
        "3.   Each and every logic should have proper comments.\n",
        "4. You may add as many number of charts you want. Make Sure for each and every chart the following format should be answered.\n",
        "        \n",
        "\n",
        "```\n",
        "# Chart visualization code\n",
        "```\n",
        "            \n",
        "\n",
        "*   Why did you pick the specific chart?\n",
        "*   What is/are the insight(s) found from the chart?\n",
        "* Will the gained insights help creating a positive business impact? \n",
        "Are there any insights that lead to negative growth? Justify with specific reason.\n",
        "\n",
        "5. You have to create at least 20 logical & meaningful charts having important insights.\n",
        "\n",
        "\n",
        "[ Hints : - Do the Vizualization in  a structured way while following \"UBM\" Rule. \n",
        "\n",
        "U - Univariate Analysis,\n",
        "\n",
        "B - Bivariate Analysis (Numerical - Categorical, Numerical - Numerical, Categorical - Categorical)\n",
        "\n",
        "M - Multivariate Analysis\n",
        " ]\n",
        "\n",
        "\n",
        "\n"
      ],
      "metadata": {
        "id": "ZrxVaUj-hHfC"
      }
    },
    {
      "cell_type": "markdown",
      "source": [
        "# ***Let's Begin !***"
      ],
      "metadata": {
        "id": "O_i_v8NEhb9l"
      }
    },
    {
      "cell_type": "markdown",
      "source": [
        "## ***1. Know Your Data***"
      ],
      "metadata": {
        "id": "HhfV-JJviCcP"
      }
    },
    {
      "cell_type": "markdown",
      "source": [
        "### Import Libraries"
      ],
      "metadata": {
        "id": "Y3lxredqlCYt"
      }
    },
    {
      "cell_type": "markdown",
      "source": [],
      "metadata": {
        "id": "8bKafadKpVqy"
      }
    },
    {
      "cell_type": "markdown",
      "source": [
        "### Dataset Loading"
      ],
      "metadata": {
        "id": "3RnN4peoiCZX"
      }
    },
    {
      "cell_type": "code",
      "source": [
        "# Importing all import python libraries\n",
        "import numpy as np\n",
        "import pandas as pd\n",
        "import matplotlib\n",
        "import matplotlib.pyplot as plt\n",
        "import seaborn as sns\n",
        "%matplotlib inline\n",
        "from datetime import datetime\n",
        "import ast"
      ],
      "metadata": {
        "id": "k0RUzZFIqKkQ"
      },
      "execution_count": null,
      "outputs": []
    },
    {
      "cell_type": "code",
      "source": [
        "from google.colab import drive\n",
        "drive.mount('/content/drive')"
      ],
      "metadata": {
        "id": "yTs1SYSUqZMB"
      },
      "execution_count": null,
      "outputs": []
    },
    {
      "cell_type": "code",
      "source": [
        "df =pd.read_csv(\"/content/drive/MyDrive/almabetter/Hotel Bookings.csv\")   "
      ],
      "metadata": {
        "id": "DS1PeLa-qkda"
      },
      "execution_count": null,
      "outputs": []
    },
    {
      "cell_type": "code",
      "source": [
        "df               # Taking a look to data"
      ],
      "metadata": {
        "id": "vnoRAwJoqrjs"
      },
      "execution_count": null,
      "outputs": []
    },
    {
      "cell_type": "markdown",
      "source": [
        "### Dataset First View"
      ],
      "metadata": {
        "id": "x71ZqKXriCWQ"
      }
    },
    {
      "cell_type": "markdown",
      "source": [
        "### Dataset Rows & Columns count"
      ],
      "metadata": {
        "id": "7hBIi_osiCS2"
      }
    },
    {
      "cell_type": "code",
      "source": [
        "# Dataset Rows & Columns count\n",
        "df_row = len(df.index)\n",
        "print(f'The number of rows in this dataset: {df_row}')\n",
        "df_col = df.shape[1]\n",
        "print('The number of columns in this dataset:',df_col)"
      ],
      "metadata": {
        "id": "Kllu7SJgmLij"
      },
      "execution_count": null,
      "outputs": []
    },
    {
      "cell_type": "markdown",
      "source": [
        "### Dataset Information"
      ],
      "metadata": {
        "id": "JlHwYmJAmNHm"
      }
    },
    {
      "cell_type": "code",
      "source": [
        "# Dataset Info\n",
        "df.info()"
      ],
      "metadata": {
        "id": "e9hRXRi6meOf"
      },
      "execution_count": null,
      "outputs": []
    },
    {
      "cell_type": "code",
      "source": [
        "df.describe()"
      ],
      "metadata": {
        "id": "Z4JkHwq18nbk"
      },
      "execution_count": null,
      "outputs": []
    },
    {
      "cell_type": "code",
      "source": [
        "df.reset_index() # View unique data\n",
        "     "
      ],
      "metadata": {
        "id": "WWtW_nZRBgI0"
      },
      "execution_count": null,
      "outputs": []
    },
    {
      "cell_type": "markdown",
      "source": [
        "#### Duplicate Values"
      ],
      "metadata": {
        "id": "35m5QtbWiB9F"
      }
    },
    {
      "cell_type": "code",
      "source": [
        "# Dataset Duplicate Value Count\n",
        "df.drop_duplicates(inplace = True)\n",
        "\n",
        "# total rows = 119390, Duplicate Rows = 31994\n",
        "uni_num_of_rows = df.shape[0]\n",
        "\n",
        "uni_num_of_rows # now unique rows = 87396"
      ],
      "metadata": {
        "id": "1sLdpKYkmox0"
      },
      "execution_count": null,
      "outputs": []
    },
    {
      "cell_type": "markdown",
      "source": [
        "#### Missing Values/Null Values"
      ],
      "metadata": {
        "id": "PoPl-ycgm1ru"
      }
    },
    {
      "cell_type": "code",
      "source": [
        "# Missing Values/Null Values Count\n",
        "null_value = df.isnull() == True\n",
        "df.fillna(np.nan, inplace = True)\n",
        "\n",
        "df      # Replace all the null value as NaN."
      ],
      "metadata": {
        "id": "GgHWkxvamxVg"
      },
      "execution_count": null,
      "outputs": []
    },
    {
      "cell_type": "code",
      "source": [
        "# Visualizing the missing values\n",
        "df.drop_duplicates(inplace = True)\n",
        "\n",
        "# total rows = 119390, Duplicate Rows = 31994\n",
        "uni_num_of_rows = df.shape[0]\n",
        "\n",
        "uni_num_of_rows # now unique rows = 87396"
      ],
      "metadata": {
        "id": "3q5wnI3om9sJ"
      },
      "execution_count": null,
      "outputs": []
    },
    {
      "cell_type": "markdown",
      "source": [
        "### What did you know about your dataset?"
      ],
      "metadata": {
        "id": "H0kj-8xxnORC"
      }
    },
    {
      "cell_type": "markdown",
      "source": [
        "**This data set contains booking information for a city hotel and a resort hotel, and includes information such as when the booking was made, length of stay, the number of adults, children, and/or babies, and the number of available parking spaces, among other things.**"
      ],
      "metadata": {
        "id": "6lumX4aI2WEP"
      }
    },
    {
      "cell_type": "markdown",
      "source": [
        "## ***2. Understanding Your Variables***"
      ],
      "metadata": {
        "id": "nA9Y7ga8ng1Z"
      }
    },
    {
      "cell_type": "code",
      "source": [
        "# Dataset Columns\n",
        "df_column = df.columns     # Dataset Columns\n",
        "df_column\n",
        "     "
      ],
      "metadata": {
        "id": "j7xfkqrt5Ag5"
      },
      "execution_count": null,
      "outputs": []
    },
    {
      "cell_type": "code",
      "source": [
        "# Dataset Describe\n",
        "df.describe()    # Dataset Describe"
      ],
      "metadata": {
        "id": "DnOaZdaE5Q5t"
      },
      "execution_count": null,
      "outputs": []
    },
    {
      "cell_type": "markdown",
      "source": [
        "### Variables Description "
      ],
      "metadata": {
        "id": "PBTbrJXOngz2"
      }
    },
    {
      "cell_type": "markdown",
      "source": [
        "**Description of individual Variable**\n",
        "\n",
        "The columns and the data it represents are listed below:\n",
        "\n",
        "1 **hotel**: Name of the hotel (Resort Hotel or City Hotel)\n",
        "\n",
        "2 **is_canceled:** If the booking was canceled (1) or not (0)\n",
        "\n",
        "3 **lead_time**: Number of days before the actual arrival of the guests\n",
        "\n",
        "4 **arrival_date_yea**r : Year of arrival date\n",
        "\n",
        "5 **arrival_date_month** : Month of month arrival date\n",
        "\n",
        "6 **arrival_date_week_number** : Week number of year for arrival date\n",
        "\n",
        "7 **arrival_date_day_of_month** : Day of arrival date\n",
        "\n",
        "8 **stays_in_weekend_nights** : Number of weekend nights (Saturday or Sunday)   spent  at the hotel by the guests.\n",
        "\n",
        "9 **stays_in_week_nights** : Number of weeknights (Monday to Friday) spent at the hotel by the guests.\n",
        "\n",
        "10 **adults** : Number of adults among guests\n",
        "\n",
        "11 **children** : Number of children among guests\n",
        "\n",
        "12 **babies** : Number of babies among guests\n",
        "\n",
        "13 **meal** : Type of meal booked\n",
        "\n",
        "14 **country** : Country of guests\n",
        "\n",
        "15 **market_segment** : Designation of market segment\n",
        "\n",
        "16 **distribution_channel** : Name of booking distribution channel\n",
        "\n",
        "17 **is_repeated_guest** : If the booking was from a repeated guest (1) or not (0)\n",
        "\n",
        "18 **previous_cancellations** : Number of previous bookings that were cancelled by the customer prior to the current booking\n",
        "\n",
        "19 **previous_bookings_not_canceled** : Number of previous bookings not cancelled by the customer prior to the current booking\n",
        "\n",
        "20 **reserved_room_type** : Code of room type reserved\n",
        "\n",
        "21 **assigned_room_type** : Code of room type assigned\n",
        "\n",
        "22 **booking_changes** : Number of changes/amendments made to the booking\n",
        "\n",
        "23 **deposit_type** : Type of the deposit made by the guest\n",
        "\n",
        "24 **agent** : ID of travel agent who made the booking\n",
        "\n",
        "25 **company** : ID of the company that made the booking\n",
        "\n",
        "26 **days_in_waiting_list** : Number of days the booking was in the waiting list\n",
        "\n",
        "27 **customer_type** : Type of customer, assuming one of four categories\n",
        "\n",
        "28 **adr** : Average Daily Rate, as defined by dividing the sum of all lodging transactions by the total number of staying nights\n",
        "\n",
        "29 **required_car_parking_spaces** : Number of car parking spaces required by the customer\n",
        "\n",
        "30 **total_of_special_requests** : Number of special requests made by the customer\n",
        "\n",
        "31 **reservation_status** : Reservation status (Canceled, Check-Out or No-Show)\n",
        "\n",
        "31 **reservation_status_date** : Date at which the last reservation status was updated"
      ],
      "metadata": {
        "id": "JOjyrm_ortc3"
      }
    },
    {
      "cell_type": "markdown",
      "source": [
        "Answer Here"
      ],
      "metadata": {
        "id": "aJV4KIxSnxay"
      }
    },
    {
      "cell_type": "markdown",
      "source": [
        "### Check Unique Values for each variable."
      ],
      "metadata": {
        "id": "u3PMJOP6ngxN"
      }
    },
    {
      "cell_type": "code",
      "source": [
        "# Check Unique Values for each variable.\n",
        "print(df.apply(lambda col: col.unique()))      #  described unique value in all individual column."
      ],
      "metadata": {
        "id": "zms12Yq5n-jE"
      },
      "execution_count": null,
      "outputs": []
    },
    {
      "cell_type": "markdown",
      "source": [
        "## 3. ***Data Wrangling***"
      ],
      "metadata": {
        "id": "dauF4eBmngu3"
      }
    },
    {
      "cell_type": "markdown",
      "source": [
        "### Data Wrangling Code"
      ],
      "metadata": {
        "id": "bKJF3rekwFvQ"
      }
    },
    {
      "cell_type": "code",
      "source": [
        "# Write your code to make your dataset analysis ready.\n",
        "# To check the distribution of data points we can use a countplot\n",
        "\n",
        "# Converting the date column in 'df_1' to a datetime data type using pd.to_datetime() function.\n",
        "df['reservation_status_date'] = pd.to_datetime(df['reservation_status_date'])\n",
        "\n",
        "# Count the number of values by date\n",
        "counts = df['reservation_status_date'].value_counts()\n",
        "\n",
        "# Set the figure size\n",
        "plt.figure(figsize=(10, 6))\n",
        "\n",
        "# Limit the x axis for better visualization\n",
        "plt.xlim(pd.Timestamp('2014-10-17'), pd.Timestamp('2017-09-14'))\n",
        "\n",
        "# Plot the bar plot\n",
        "plt.bar(counts.index, counts.values)\n",
        "plt.show()"
      ],
      "metadata": {
        "id": "OJYzLcpJ2n7l"
      },
      "execution_count": null,
      "outputs": []
    },
    {
      "cell_type": "code",
      "source": [
        "# Trimming the rows of dataset where reservation date is older than 2015-05-01 \n",
        "df_2=df[(df['reservation_status_date']>pd.Timestamp('2015-05-01'))&((df['reservation_status_date']<pd.Timestamp('2017-09-14')))].reset_index(drop = True)"
      ],
      "metadata": {
        "id": "mJmk-1r62wyd"
      },
      "execution_count": null,
      "outputs": []
    },
    {
      "cell_type": "code",
      "source": [
        "# Visualizing the new selection of data points\n",
        "# Get the counts\n",
        "counts = df['reservation_status_date'].value_counts()\n",
        "\n",
        "# Set the figure size\n",
        "plt.figure(figsize=(10, 6))\n",
        "\n",
        "# Plot the bar plot\n",
        "plt.bar(counts.index, counts.values)\n",
        "plt.show()"
      ],
      "metadata": {
        "id": "xhTRLyZ_201d"
      },
      "execution_count": null,
      "outputs": []
    },
    {
      "cell_type": "markdown",
      "source": [
        "What all manipulations have you done and insights you found?\n"
      ],
      "metadata": {
        "id": "RDTnPrUB29jg"
      }
    },
    {
      "cell_type": "markdown",
      "source": [
        ". 26.79% of values in dataset are duplicated, hence these are dropped\n",
        ". Data points seems to be missing before 2015-05-01. Hence the data before the same is excluded from analysis.\n",
        ". 'company','agent','country','Children' columns are missing 93.983%, 3.951%, 0.517%, 0.005% of data repectively\n",
        ". 'company' and 'agent'columns are dropped\n",
        ". Missing rows from columns 'country' and 'children' are also dropped"
      ],
      "metadata": {
        "id": "jD5Rp0hC3YuS"
      }
    },
    {
      "cell_type": "markdown",
      "source": [
        "## ***4. Data Vizualization, Storytelling & Experimenting with charts : Understand the relationships between variables***"
      ],
      "metadata": {
        "id": "GF8Ens_Soomf"
      }
    },
    {
      "cell_type": "markdown",
      "source": [
        "#### Chart - 1"
      ],
      "metadata": {
        "id": "0wOQAZs5pc--"
      }
    },
    {
      "cell_type": "code",
      "source": [
        "# Let's create a function which will give us bar chart of data respective with a col.\n",
        "def get_count_from_column_bar(df, column_label):\n",
        "  df_grpd = df[column_label].value_counts()\n",
        "  df_grpd = pd.DataFrame({'index':df_grpd.index, 'count':df_grpd.values})\n",
        "  return df_grpd\n",
        "\n",
        "\n",
        "def plot_bar_chart_from_column(df, column_label, t1):\n",
        "  df_grpd = get_count_from_column(df, column_label)\n",
        "  fig, ax = plt.subplots(figsize=(14, 6))\n",
        "  c= ['g','r','b','c','y']\n",
        "  ax.bar(df_grpd['index'], df_grpd['count'], width = 0.4, align = 'edge', edgecolor = 'black', linewidth = 4, color = c, linestyle = ':', alpha = 0.5)\n",
        "  plt.title(t1, bbox={'facecolor':'0.8', 'pad':3})\n",
        "  plt.legend()\n",
        "  plt.ylabel('Count')\n",
        "  plt.xticks(rotation = 15) # use to format the lable of x-axis\n",
        "  plt.xlabel(column_label)\n",
        "  plt.show()"
      ],
      "metadata": {
        "id": "1bryaWsQ371n"
      },
      "execution_count": null,
      "outputs": []
    },
    {
      "cell_type": "code",
      "source": [
        "# Chart - 1 visualization code\n",
        "\n",
        "def get_count_from_column(df, column_label):\n",
        "  df_grpd = df[column_label].value_counts()\n",
        "  df_grpd = pd.DataFrame({'index':df_grpd.index, 'count':df_grpd.values})\n",
        "  return df_grpd\n",
        "\n",
        "# plot a pie chart from grouped data\n",
        "def plot_pie_chart_from_column(df, column_label, t1, exp):\n",
        "  df_grpd = get_count_from_column(df, column_label)\n",
        "  fig, ax = plt.subplots(figsize=(14,10))\n",
        "  ax.pie(df_grpd.loc[:, 'count'], labels=df_grpd.loc[:, 'index'], autopct='%1.2f%%',startangle=90,shadow=True, labeldistance = 1.2, explode = exp)\n",
        "  plt.title(t1, bbox={'facecolor':'0.9', 'pad':6})\n",
        "  ax.axis('equal')\n",
        "  plt.legend()\n",
        "  plt.show()  "
      ],
      "metadata": {
        "id": "UfZDy8C9EV0c"
      },
      "execution_count": null,
      "outputs": []
    },
    {
      "cell_type": "code",
      "source": [
        "exp1 = [0.05,0.05]\n",
        "plot_pie_chart_from_column(df, 'hotel', 'Booking percentage of Hotel by Name', exp1)"
      ],
      "metadata": {
        "id": "X3pnJhmxEcWz"
      },
      "execution_count": null,
      "outputs": []
    },
    {
      "cell_type": "markdown",
      "source": [
        "##### 1. Why did you pick the specific chart?"
      ],
      "metadata": {
        "id": "K5QZ13OEpz2H"
      }
    },
    {
      "cell_type": "markdown",
      "source": [
        "**To present the data that in which hotel more booking have been done**."
      ],
      "metadata": {
        "id": "LWZuL6yS4pH3"
      }
    },
    {
      "cell_type": "markdown",
      "source": [
        "##### 2. What is/are the insight(s) found from the chart?"
      ],
      "metadata": {
        "id": "lQ7QKXXCp7Bj"
      }
    },
    {
      "cell_type": "markdown",
      "source": [
        "**Here, we found that the booking number is Higher in City Hotel which is 61.12% than Resort Hotel which is 38.87%. Hence we can say that City hotel has more consumption**"
      ],
      "metadata": {
        "id": "amyahm1940U9"
      }
    },
    {
      "cell_type": "markdown",
      "source": [
        "##### 3. Will the gained insights help creating a positive business impact? \n",
        "Are there any insights that lead to negative growth? Justify with specific reason."
      ],
      "metadata": {
        "id": "448CDAPjqfQr"
      }
    },
    {
      "cell_type": "markdown",
      "source": [
        "***Yes, for both Hotels, this data making some positive business impact : -\n",
        "\n",
        "City Hotel :- Provided more services to attract more guest to increase more revenue.\n",
        "\n",
        "Resort Hotel :- Find solution to attract guest and find what city hotel did to attract guest.***"
      ],
      "metadata": {
        "id": "ZovOzfsj45GP"
      }
    },
    {
      "cell_type": "markdown",
      "source": [
        "#### Chart - 2"
      ],
      "metadata": {
        "id": "KSlN3yHqYklG"
      }
    },
    {
      "cell_type": "code",
      "source": [
        "# Chart - 2 visualization code# Chart - 2 visualization code\n",
        "exp4 = [0,0.1]\n",
        "plot_pie_chart_from_column(df, 'is_canceled', 'Cancellation volume of Hotel', exp4)"
      ],
      "metadata": {
        "id": "R4YgtaqtYklH"
      },
      "execution_count": null,
      "outputs": []
    },
    {
      "cell_type": "markdown",
      "source": [
        "##### 1. Why did you pick the specific chart?"
      ],
      "metadata": {
        "id": "t6dVpIINYklI"
      }
    },
    {
      "cell_type": "markdown",
      "source": [
        "**In this chart, we presented the cancellation rate of the hotels booking**"
      ],
      "metadata": {
        "id": "Syj4HCto5Kgh"
      }
    },
    {
      "cell_type": "markdown",
      "source": [
        "##### 2. What is/are the insight(s) found from the chart?"
      ],
      "metadata": {
        "id": "ijmpgYnKYklI"
      }
    },
    {
      "cell_type": "markdown",
      "source": [
        "**Here, we found that overall more than 25% of booking got cancelled**"
      ],
      "metadata": {
        "id": "yFmH9-Mb5RSH"
      }
    },
    {
      "cell_type": "markdown",
      "source": [
        "##### 3. Will the gained insights help creating a positive business impact? \n",
        "Are there any insights that lead to negative growth? Justify with specific reason."
      ],
      "metadata": {
        "id": "-JiQyfWJYklI"
      }
    },
    {
      "cell_type": "markdown",
      "source": [
        "**Here, we can see, that more than 27% booking getting cancelled.**\n",
        "\n",
        "**Solution: We can check the reason of cancellation of a booking & need to get this sort on business level**"
      ],
      "metadata": {
        "id": "vDXTgSNm5X4r"
      }
    },
    {
      "cell_type": "markdown",
      "source": [
        "#### Chart - 3"
      ],
      "metadata": {
        "id": "EM7whBJCYoAo"
      }
    },
    {
      "cell_type": "code",
      "source": [
        "# Chart - 3 visualization code\n",
        "plot_bar_chart_from_column(df, 'distribution_channel', 'Distibution Channel Volume')"
      ],
      "metadata": {
        "id": "t6GMdE67YoAp"
      },
      "execution_count": null,
      "outputs": []
    },
    {
      "cell_type": "markdown",
      "source": [
        "##### 1. Why did you pick the specific chart?"
      ],
      "metadata": {
        "id": "fge-S5ZAYoAp"
      }
    },
    {
      "cell_type": "markdown",
      "source": [
        "**The following chart represent maximum volume of booking done through which channel to represnt the numbers in descending order we chose bar graph**"
      ],
      "metadata": {
        "id": "BhgX29wC5hu-"
      }
    },
    {
      "cell_type": "markdown",
      "source": [
        "##### 2. What is/are the insight(s) found from the chart?"
      ],
      "metadata": {
        "id": "85gYPyotYoAp"
      }
    },
    {
      "cell_type": "markdown",
      "source": [
        "**As clearly seen TA/TO(Tour of Agent & Tour of operator) is highest, recommending to continue booking through TA/TO**"
      ],
      "metadata": {
        "id": "sSuNeyIw5npq"
      }
    },
    {
      "cell_type": "markdown",
      "source": [
        "##### 3. Will the gained insights help creating a positive business impact? \n",
        "Are there any insights that lead to negative growth? Justify with specific reason."
      ],
      "metadata": {
        "id": "RoGjAbkUYoAp"
      }
    },
    {
      "cell_type": "markdown",
      "source": [
        "Yes this shows positive business impact.\n",
        "\n",
        "Higher the number of TA/TO will help to increase the revenue generation of Hotel.\n",
        "\n"
      ],
      "metadata": {
        "id": "LbPX2mmx58UM"
      }
    },
    {
      "cell_type": "markdown",
      "source": [
        "#### Chart - 4"
      ],
      "metadata": {
        "id": "4Of9eVA-YrdM"
      }
    },
    {
      "cell_type": "code",
      "source": [
        "# Chart - 4 visualization code\n",
        "exp2 = [0.2, 0,0,0,0,0,0,0,0,0,0,0.1]\n",
        "plot_pie_chart_from_column(df, 'arrival_date_month', 'Month-wise booking', exp2)\n"
      ],
      "metadata": {
        "id": "irlUoxc8YrdO"
      },
      "execution_count": null,
      "outputs": []
    },
    {
      "cell_type": "markdown",
      "source": [
        "##### 1. Why did you pick the specific chart?"
      ],
      "metadata": {
        "id": "iky9q4vBYrdO"
      }
    },
    {
      "cell_type": "markdown",
      "source": [
        "**To show the percentage share of booking in each month,on overall level**"
      ],
      "metadata": {
        "id": "TZLIJHNS6G9M"
      }
    },
    {
      "cell_type": "markdown",
      "source": [
        "##### 2. What is/are the insight(s) found from the chart?"
      ],
      "metadata": {
        "id": "F6T5p64dYrdO"
      }
    },
    {
      "cell_type": "markdown",
      "source": [
        "**The above percentage shows month May, July and Aug are the highest booking months due to holiday season. Recommending aggressive advertisement to lure more and more customers.**"
      ],
      "metadata": {
        "id": "g8i--Tev6Oks"
      }
    },
    {
      "cell_type": "markdown",
      "source": [
        "##### 3. Will the gained insights help creating a positive business impact? \n",
        "Are there any insights that lead to negative growth? Justify with specific reason."
      ],
      "metadata": {
        "id": "y-Ehk30pYrdP"
      }
    },
    {
      "cell_type": "markdown",
      "source": [
        "**Yes, with increased volume of visitors will help hotel to manage revenue in down time, will also help employee satisfaction and retention.**"
      ],
      "metadata": {
        "id": "V_VBrVML6WPY"
      }
    },
    {
      "cell_type": "markdown",
      "source": [
        "#### Chart - 5"
      ],
      "metadata": {
        "id": "bamQiAODYuh1"
      }
    },
    {
      "cell_type": "code",
      "source": [
        "# Chart - 5 visualization code\n",
        "exp3 = [0,0.3]\n",
        "plot_pie_chart_from_column(df, 'is_repeated_guest', 'Guest repeating status', exp3)\n"
      ],
      "metadata": {
        "id": "TIJwrbroYuh3"
      },
      "execution_count": null,
      "outputs": []
    },
    {
      "cell_type": "markdown",
      "source": [
        "##### 1. Why did you pick the specific chart?"
      ],
      "metadata": {
        "id": "QHF8YVU7Yuh3"
      }
    },
    {
      "cell_type": "markdown",
      "source": [
        "**To show the percentage share of repeated & non-repeated guests.**"
      ],
      "metadata": {
        "id": "DADXEMMm6ey2"
      }
    },
    {
      "cell_type": "markdown",
      "source": [
        "##### 2. What is/are the insight(s) found from the chart?"
      ],
      "metadata": {
        "id": "GwzvFGzlYuh3"
      }
    },
    {
      "cell_type": "markdown",
      "source": [
        "**Here, we can see that the number of repeated guests is very less as compared to overall guests**"
      ],
      "metadata": {
        "id": "nj2WQoZT6keU"
      }
    },
    {
      "cell_type": "markdown",
      "source": [
        "##### 3. Will the gained insights help creating a positive business impact? \n",
        "Are there any insights that lead to negative growth? Justify with specific reason."
      ],
      "metadata": {
        "id": "qYpmQ266Yuh3"
      }
    },
    {
      "cell_type": "markdown",
      "source": [
        "**We can give alluring offers to non-repetitive customers during Off seasons to enhance revenue**"
      ],
      "metadata": {
        "id": "_WtzZ_hCYuh4"
      }
    },
    {
      "cell_type": "markdown",
      "source": [
        "#### Chart - 6"
      ],
      "metadata": {
        "id": "OH-pJp9IphqM"
      }
    },
    {
      "cell_type": "code",
      "source": [
        "# Chart - 6 visualization code\n",
        "plot_bar_chart_from_column(df, 'assigned_room_type', 'Assigment of room by type')"
      ],
      "metadata": {
        "id": "kuRf4wtuphqN"
      },
      "execution_count": null,
      "outputs": []
    },
    {
      "cell_type": "markdown",
      "source": [
        "**To show distribution by volume, which room is alotted.**"
      ],
      "metadata": {
        "id": "rNpcGFBJ60v7"
      }
    },
    {
      "cell_type": "markdown",
      "source": [
        "##### 2. What is/are the insight(s) found from the chart?"
      ],
      "metadata": {
        "id": "_ouA3fa0phqN"
      }
    },
    {
      "cell_type": "markdown",
      "source": [
        "##### 3. Will the gained insights help creating a positive business impact? \n",
        "Are there any insights that lead to negative growth? Justify with specific reason."
      ],
      "metadata": {
        "id": "Seke61FWphqN"
      }
    },
    {
      "cell_type": "markdown",
      "source": [
        "**Yes, Positive impact because 'A','D','E' is more prefered by guest due to better services offered in room type.**"
      ],
      "metadata": {
        "id": "IpP1SV8y6_-1"
      }
    },
    {
      "cell_type": "markdown",
      "source": [
        "#### Chart - 7 - **How does cancellation rate varies by Room Type?**"
      ],
      "metadata": {
        "id": "PIIx-8_IphqN"
      }
    },
    {
      "cell_type": "code",
      "source": [
        "# Set figure size\n",
        "plt.figure(figsize=[20,10])\n",
        "\n",
        "# Subplot for Cancelled Room Types\n",
        "plt.subplot(2, 3, 1)\n",
        "\n",
        "# Get percentage of cancelled rooms grouped by room type\n",
        "cancelled_rooms = (df_2.groupby('reserved_room_type')['is_canceled'].sum() * 100 / len(df_2)).round(2).sort_values(ascending=False)\n",
        "\n",
        "# PLot barplot for cancelled_rooms\n",
        "sns.barplot(x=cancelled_rooms.index, y=cancelled_rooms.values)\n",
        "plt.title('Cancellation % across Room Types')\n",
        "plt.ylabel('Cancellation Percentage (%)')\n",
        "\n",
        "# Add perentage values on top of bars\n",
        "for i, v in enumerate(cancelled_rooms.values):\n",
        "    plt.text(i, v, f'{v}%', ha='center')\n",
        "\n",
        "# Subplots for Room Type Distribution\n",
        "# Use for loop to plot booking percentage for two room types\n",
        "room_types = ['reserved_room_type', 'assigned_room_type']\n",
        "for i, col in enumerate(room_types):\n",
        "    plt.subplot(2, 3, i+2)\n",
        "    counts = (df_2[col].value_counts() * 100 / len(df_2)).round(1)\n",
        "    sns.barplot(x=counts.index, y=counts.values)\n",
        "    plt.title('Booking % for '+str(col))\n",
        "    plt.ylabel('Booking Percentage (%)')\n",
        "\n",
        "    # Show % value on top of bars\n",
        "    for j, val in enumerate(counts.values):\n",
        "        plt.text(j, val, f'{val}%', ha='center')\n",
        "        "
      ],
      "metadata": {
        "id": "P_p3KLzGWQsi"
      },
      "execution_count": null,
      "outputs": []
    },
    {
      "cell_type": "markdown",
      "source": [
        "##### 1. Why did you pick the specific chart?"
      ],
      "metadata": {
        "id": "t27r6nlMphqO"
      }
    },
    {
      "cell_type": "markdown",
      "source": [
        "**Bar chart helps us to visualize and compare the cancellation rates across room types**"
      ],
      "metadata": {
        "id": "iv6ro40sphqO"
      }
    },
    {
      "cell_type": "markdown",
      "source": [
        "##### 2. What is/are the insight(s) found from the chart?"
      ],
      "metadata": {
        "id": "r2jJGEOYphqO"
      }
    },
    {
      "cell_type": "markdown",
      "source": [
        "**Cancellations are higher for room A followed by D and E**\n",
        "\n",
        "**From the booking percentages can see the shift of provided rooms from A to D and E.**\n",
        "\n",
        "**Hence we can conclude that room type A is getting cancelled due to the lack of availability.**\n"
      ],
      "metadata": {
        "id": "Po6ZPi4hphqO"
      }
    },
    {
      "cell_type": "markdown",
      "source": [
        "##### 3. Will the gained insights help creating a positive business impact? \n",
        "Are there any insights that lead to negative growth? Justify with specific reason."
      ],
      "metadata": {
        "id": "b0JNsNcRphqO"
      }
    },
    {
      "cell_type": "markdown",
      "source": [
        "**Increasing the availabilty of most popular room (A) could decrease cancellations and increase revenue**"
      ],
      "metadata": {
        "id": "xvSq8iUTphqO"
      }
    },
    {
      "cell_type": "markdown",
      "source": [
        "#### Chart - 8 - **. How does adr varies with room type?**"
      ],
      "metadata": {
        "id": "BZR9WyysphqO"
      }
    },
    {
      "cell_type": "code",
      "source": [
        "# Filtering outlier in ADR\n",
        "df_2 = df_2[df_2['adr']<1000]\n",
        "\n",
        "# Set figure size\n",
        "plt.figure(figsize=(20,5))\n",
        "\n",
        "# First subplot\n",
        "plt.subplot(1,2,1)\n",
        "\n",
        "# Add boxplot for ADR over assigned room type\n",
        "sns.boxplot(x='assigned_room_type', y='adr', data=df_2)\n",
        "plt.xlabel('Assigned Room Type')\n",
        "plt.ylabel('Average Daily Rate')\n",
        "plt.title('ADR vs Room Type')\n",
        "\n",
        "# Second subplot\n",
        "plt.subplot(1,2,2)\n",
        "\n",
        "# Add countplot for bookings over room type\n",
        "sns.countplot(data=df_2, x='assigned_room_type')\n",
        "plt.xlabel('Assigned Room Type')\n",
        "plt.ylabel('Bookings Count')\n",
        "plt.title('Bookings Count vs Room Type')\n",
        "\n",
        "plt.show()\n"
      ],
      "metadata": {
        "id": "h2E78fn0HSai"
      },
      "execution_count": null,
      "outputs": []
    },
    {
      "cell_type": "markdown",
      "source": [
        "##### 1. Why did you pick the specific chart?"
      ],
      "metadata": {
        "id": "jj7wYXLtphqO"
      }
    },
    {
      "cell_type": "markdown",
      "source": [
        "**Here the box plot helps to visualize the distribution of ADR over different room types**"
      ],
      "metadata": {
        "id": "Ob8u6rCTphqO"
      }
    },
    {
      "cell_type": "markdown",
      "source": [
        "##### 2. What is/are the insight(s) found from the chart?"
      ],
      "metadata": {
        "id": "eZrbJ2SmphqO"
      }
    },
    {
      "cell_type": "markdown",
      "source": [
        "**Most booked rooms are A, D, E with an average ADR of 95, 109 and 119 respectively**\n",
        "\n",
        "**Most expensive rooms are F,G and H with average ADR of 153, 167, and 172 respectively**\n",
        "\n",
        "**Average daily rate is negatively correlated to number of bookings**"
      ],
      "metadata": {
        "id": "mZtgC_hjphqO"
      }
    },
    {
      "cell_type": "markdown",
      "source": [
        "##### 3. Will the gained insights help creating a positive business impact? \n",
        "Are there any insights that lead to negative growth? Justify with specific reason."
      ],
      "metadata": {
        "id": "rFu4xreNphqO"
      }
    },
    {
      "cell_type": "markdown",
      "source": [
        "**Management can use these insights to optimize ADR and to maximize revenue**"
      ],
      "metadata": {
        "id": "ey_0qi68phqO"
      }
    },
    {
      "cell_type": "markdown",
      "source": [
        "#### Chart - 9- **Duration of stay over months and weeks?**\n"
      ],
      "metadata": {
        "id": "YJ55k-q6phqO"
      }
    },
    {
      "cell_type": "code",
      "source": [
        "# Creating a figure with a size of (12,4)\n",
        "plt.figure(figsize=(12,4))\n",
        "\n",
        "# Creating a new column 'Total_stay_duration' in the dataframe df_2\n",
        "df_2['Total_stay_duration'] = df_2['stays_in_weekend_nights'] + df_2['stays_in_week_nights']\n",
        "\n",
        "# Filtering the dataframe to include only rows where the total stay duration is less than 15 days for better visualization\n",
        "data = df_2[df_2['Total_stay_duration']<15].reset_index(drop = True)\n",
        "\n",
        "# First subplot\n",
        "plt.subplot(1,2,1)\n",
        "\n",
        "# Creating a boxplot of total stay duration by month of reservation status\n",
        "sns.boxplot(x=data['reservation_status_date'].dt.month,y='Total_stay_duration',data = data);\n",
        "\n",
        "# Adding title to the subplot\n",
        "plt.title(\"Total stay duration by month\")\n",
        "\n",
        "# Second subplot\n",
        "plt.subplot(1,2,2)\n",
        "\n",
        "# Creating a lineplot of total stay duration by week of reservation status\n",
        "sns.lineplot(x=data['reservation_status_date'].dt.week,y='Total_stay_duration',data = data);\n",
        "\n",
        "# Adding title to the subplot\n",
        "plt.title(\"Total stay duration by week\")\n",
        "\n",
        "#Printing the summary statistics of 'Total_stay_duration'\n",
        "print('Total_stay_duration Statistics')\n",
        "print(data['Total_stay_duration'].describe())\n",
        "\n",
        "# Show chart\n",
        "plt.show()"
      ],
      "metadata": {
        "id": "myzP_LVoHmlL"
      },
      "execution_count": null,
      "outputs": []
    },
    {
      "cell_type": "markdown",
      "source": [
        "##### 1. Why did you pick the specific chart?"
      ],
      "metadata": {
        "id": "gCFgpxoyphqP"
      }
    },
    {
      "cell_type": "markdown",
      "source": [
        "**Here boxplots and lineplots helps us to visualize the distribution of duration data over different months**"
      ],
      "metadata": {
        "id": "TVxDimi2phqP"
      }
    },
    {
      "cell_type": "markdown",
      "source": [
        "##### 2. What is/are the insight(s) found from the chart?"
      ],
      "metadata": {
        "id": "OVtJsKN_phqQ"
      }
    },
    {
      "cell_type": "markdown",
      "source": [
        "**1  Average stay duration is relatively higher for the months June to September**\n",
        "\n",
        "**2  The average stay duration lies between 2.8 and 4.2**\n",
        "\n",
        "**3  The average stay duration steadily increases upto approximately 35th week then sharply decreases**"
      ],
      "metadata": {
        "id": "ngGi97qjphqQ"
      }
    },
    {
      "cell_type": "markdown",
      "source": [
        "##### 3. Will the gained insights help creating a positive business impact? \n",
        "Are there any insights that lead to negative growth? Justify with specific reason."
      ],
      "metadata": {
        "id": "lssrdh5qphqQ"
      }
    },
    {
      "cell_type": "markdown",
      "source": [
        "**.   Some months have relatively higher average stay duration. With these insights the hotel management can better allocate resources to meet the customer needs**"
      ],
      "metadata": {
        "id": "tBpY5ekJphqQ"
      }
    },
    {
      "cell_type": "markdown",
      "source": [
        "#### Chart - **10 Is there any relationship between Duration of stay vs ADR?**"
      ],
      "metadata": {
        "id": "U2RJ9gkRphqQ"
      }
    },
    {
      "cell_type": "code",
      "source": [
        "# Removing outlier in adr\n",
        "df_2 = df_2[df_2['adr']<1000]"
      ],
      "metadata": {
        "id": "xmud8IjwHx9b"
      },
      "execution_count": null,
      "outputs": []
    },
    {
      "cell_type": "code",
      "source": [
        "# Chart - 14 visualization code\n",
        "# Total stay duration vs adr sns.scatterplot\n",
        "sns.scatterplot(x='Total_stay_duration',y='adr',data = df_2);"
      ],
      "metadata": {
        "id": "jRq8fjzRH4z4"
      },
      "execution_count": null,
      "outputs": []
    },
    {
      "cell_type": "markdown",
      "source": [
        "##### 1. Why did you pick the specific chart?"
      ],
      "metadata": {
        "id": "1M8mcRywphqQ"
      }
    },
    {
      "cell_type": "markdown",
      "source": [
        "**Here, a scatterplot is used to visualize the relationship between two numerical continuous variables (adr and total stay duration) by displaying the dependency of the two variables on each other.**"
      ],
      "metadata": {
        "id": "8agQvks0phqQ"
      }
    },
    {
      "cell_type": "markdown",
      "source": [
        "##### 2. What is/are the insight(s) found from the chart?"
      ],
      "metadata": {
        "id": "tgIPom80phqQ"
      }
    },
    {
      "cell_type": "markdown",
      "source": [
        "**From the chart we can observe a negative correlation between ADR and stay duarion**"
      ],
      "metadata": {
        "id": "Qp13pnNzphqQ"
      }
    },
    {
      "cell_type": "markdown",
      "source": [
        "##### 3. Will the gained insights help creating a positive business impact? \n",
        "Are there any insights that lead to negative growth? Justify with specific reason."
      ],
      "metadata": {
        "id": "JMzcOPDDphqR"
      }
    },
    {
      "cell_type": "markdown",
      "source": [
        "**Since customers staying for shorter periods generate more ADR management can focus attracting more of these customers to increase revenue.**"
      ],
      "metadata": {
        "id": "R4Ka1PC2phqR"
      }
    },
    {
      "cell_type": "markdown",
      "source": [
        "#### Chart - 11"
      ],
      "metadata": {
        "id": "x-EpHcCOp1ci"
      }
    },
    {
      "cell_type": "code",
      "source": [
        "# Chart - 11 visualization code\n",
        "plt.figure(figsize = (12,10), dpi = 100)\n",
        "hotel_wise_meal = df.groupby(['hotel', 'meal'])['meal'].count().unstack()\n",
        "hotel_wise_meal.plot(kind ='bar', figsize = (12,8))\n",
        "hotel_wise_meal"
      ],
      "metadata": {
        "id": "mAQTIvtqp1cj"
      },
      "execution_count": null,
      "outputs": []
    },
    {
      "cell_type": "markdown",
      "source": [
        "##### 1. Why did you pick the specific chart?"
      ],
      "metadata": {
        "id": "X_VqEhTip1ck"
      }
    },
    {
      "cell_type": "markdown",
      "source": [
        "**To show the data that in which hotel more booking have been done.**"
      ],
      "metadata": {
        "id": "-vsMzt_np1ck"
      }
    },
    {
      "cell_type": "markdown",
      "source": [
        "##### 2. What is/are the insight(s) found from the chart?"
      ],
      "metadata": {
        "id": "8zGJKyg5p1ck"
      }
    },
    {
      "cell_type": "markdown",
      "source": [
        "**Here, we found that the booking number is Higher in City Hotel which is 61.12% than Resort Hotel which is 38.87%. Hence we can say that City hotel has more consumption**"
      ],
      "metadata": {
        "id": "ZYdMsrqVp1ck"
      }
    },
    {
      "cell_type": "markdown",
      "source": [
        "##### 3. Will the gained insights help creating a positive business impact? \n",
        "Are there any insights that lead to negative growth? Justify with specific reason."
      ],
      "metadata": {
        "id": "PVzmfK_Ep1ck"
      }
    },
    {
      "cell_type": "markdown",
      "source": [
        "**Yes, for both Hotels, this data making some positive business impact : -**\n",
        "\n",
        "**City Hotel :- Provided more services to attract more guest to increase more revenue.**\n",
        "\n",
        "**Resort Hotel :- Find solution to attract guest and find what city hotel did to attract guest.**"
      ],
      "metadata": {
        "id": "druuKYZpp1ck"
      }
    },
    {
      "cell_type": "markdown",
      "source": [
        "#### Chart - 12 CORRELATION HEATMAP"
      ],
      "metadata": {
        "id": "n3dbpmDWp1ck"
      }
    },
    {
      "cell_type": "code",
      "source": [
        "# Correlation Heatmap visualization code\n",
        "# Droping number of day, month, year as their numerical correlation does not add value to our analysis\n",
        "df_3 = df_2.drop(['arrival_date_day_of_month', 'arrival_date_year',\n",
        "                  'arrival_date_month', 'arrival_date_week_number'], axis=1)\n",
        "\n",
        "# ploting cluster map using sns.clstermap()\n",
        "sns.clustermap(df_3.corr(),cmap='RdBu',center=0,figsize=(11, 10))"
      ],
      "metadata": {
        "id": "e3t4BRBaIENI"
      },
      "execution_count": null,
      "outputs": []
    },
    {
      "cell_type": "code",
      "source": [
        "#sorted correlation chart of numerical values\n",
        "\n",
        "mask = (df_3.corr() < 0.1)&(df_3.corr() > -0.1)\n",
        "sns.clustermap(df_3.corr(),cmap='RdBu',center=0,figsize=(11, 10),annot=True,mask=mask)\n",
        "plt.show()"
      ],
      "metadata": {
        "id": "CraYKLuZRm-F"
      },
      "execution_count": null,
      "outputs": []
    },
    {
      "cell_type": "markdown",
      "source": [
        "##### 1. Why did you pick the specific chart?"
      ],
      "metadata": {
        "id": "ylSl6qgtp1ck"
      }
    },
    {
      "cell_type": "markdown",
      "source": [
        "**A correlation heatmap helps us to visualize the correlations between multiple variables**"
      ],
      "metadata": {
        "id": "m2xqNkiQp1ck"
      }
    },
    {
      "cell_type": "markdown",
      "source": [
        "##### 2. What is/are the insight(s) found from the chart?"
      ],
      "metadata": {
        "id": "ZWILFDl5p1ck"
      }
    },
    {
      "cell_type": "markdown",
      "source": [
        "**. adr seems to be positively correlated with children,adults,total_of_special_requests,is_cancelled**\n",
        "\n",
        ".**lead_time seems to be positively correlated with stays_in_weeknd_nights,stays_in_week_nights**\n",
        "\n",
        "**.is_repeated_guest seems to be negatively correlated with adr, is_cancelled,lead_time**\n",
        "\n",
        "**.is cancelled seems to be positively correlated with lead_time and adr also negatively correlaed with total_of_special_requests Answer Here**"
      ],
      "metadata": {
        "id": "x-lUsV2mp1ck"
      }
    },
    {
      "cell_type": "markdown",
      "source": [
        "## **5. Solution to Business Objective**"
      ],
      "metadata": {
        "id": "JcMwzZxoAimU"
      }
    },
    {
      "cell_type": "markdown",
      "source": [
        "#### What do you suggest the client to achieve Business Objective ? \n",
        "**Business objective attained as follows:**\n",
        "\n",
        "**1**  For hotel business to flourish few things which we need to consider is high revenue generation, customers satisfaction and employeee retention.\n",
        "\n",
        "**2**   We are able achieve the same by showing the client which are the months which are high in revenue generation by pie chart distribution\n",
        "\n",
        "**3**  Increasing the revenue achieved by bar chart distribution of which typre room are most reserved and what are the months likely for visitors\n",
        "\n",
        "**4** So for these the client can be well prepare in advance so that minimum grievances would be faced by clients in long run and would help in further enhancement of their hospitality.\n",
        "\n",
        "**5**  Outliers like higher the visitor then adr has reduced drastically was shown in scattered plot so in off season client can engage with offices for bulk booking this will aslo help extra revenue generation\n",
        "\n",
        "**6**  We are able to show the trend of arrivals of visitor at client locations through which client engaged visitos well advance for there entaertainment and leisure activities\n",
        "\n",
        "**7**   We where also able to co relate the values showing the max and min percentage between them so that the percenytage lying those numbers can be enhanced by various medium"
      ],
      "metadata": {
        "id": "8G2x9gOozGDZ"
      }
    },
    {
      "cell_type": "markdown",
      "source": [
        "# **Conclusion**"
      ],
      "metadata": {
        "id": "gCX9965dhzqZ"
      }
    },
    {
      "cell_type": "markdown",
      "source": [
        "1  City Hotel seems to be more preferred among travellers and it also generates more revenue & profit.\n",
        "\n",
        "2  Most number of bookings are made in July and August as compared rest of the months.\n",
        "\n",
        "3  Room Type A is the most preferred room type among travellers.\n",
        "\n",
        "4  Most number of bookings are made from Portugal & Great Britain.\n",
        "\n",
        "5  Most of the guest stays for 1-4 days in the hotels.\n",
        "\n",
        "6  City Hotel retains more number of guests.\n",
        "\n",
        "7  Around one-fourth of the total bookings gets cancelled. More cancellations are from City Hotel.\n",
        "\n",
        "8  New guest tends to cancel bookings more than repeated customers.\n",
        "\n",
        "9  Lead time, number of days in waiting list or assignation of reserved room to customer does not affect cancellation of bookings.\n",
        "\n",
        "10  Corporate has the most percentage of repeated guests while TA/TO has the least whereas in the case of cancelled bookings TA/TO has the most percentage while Corporate has the least.\n",
        "\n",
        "11  The length of the stay decreases as ADR increases probably to reduce the cost.\n",
        "\n"
      ],
      "metadata": {
        "id": "PBFitcTA9iGV"
      }
    },
    {
      "cell_type": "markdown",
      "source": [
        "### ***Hurrah! You have successfully completed your EDA Capstone Project !!!***"
      ],
      "metadata": {
        "id": "gIfDvo9L0UH2"
      }
    }
  ]
}